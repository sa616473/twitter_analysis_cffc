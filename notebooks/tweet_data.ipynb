{
 "cells": [
  {
   "cell_type": "code",
   "execution_count": 11,
   "metadata": {},
   "outputs": [],
   "source": [
    "import os\n",
    "\n",
    "consumer_key = os.getenv('CONSUMER_KEY')\n",
    "consumer_secret = os.getenv('CONSUMER_SECRET')\n",
    "access_token = os.getenv('ACCESS_TOKEN')\n",
    "access_token_secret = os.getenv('ACCESS_TOKEN_SECRET')"
   ]
  },
  {
   "cell_type": "code",
   "execution_count": 12,
   "metadata": {},
   "outputs": [],
   "source": [
    "import tweepy\n",
    "import pandas as pd"
   ]
  },
  {
   "cell_type": "code",
   "execution_count": 13,
   "metadata": {},
   "outputs": [],
   "source": [
    "auth = tweepy.OAuthHandler(consumer_key, consumer_secret)\n",
    "auth.set_access_token(access_token, access_token_secret)\n",
    "api = tweepy.API(auth)"
   ]
  },
  {
   "cell_type": "code",
   "execution_count": 26,
   "metadata": {},
   "outputs": [],
   "source": [
    "def tweet_crawler(num_of_tweets=41000, real_id=\"\"):\n",
    "    tweets= []\n",
    "    likes = []\n",
    "    time = []\n",
    "    tweet_id = []\n",
    "    retweet_count = []\n",
    "    entities = []\n",
    "    \n",
    "    for tweet in tweepy.Cursor(api.user_timeline, id=\"ChicagoFire\", tweet_mode=\"extended\").items(num_of_tweets):\n",
    "        tweets.append(tweet.full_text)\n",
    "        likes.append(tweet.favorite_count)\n",
    "        time.append(tweet.created_at)\n",
    "        tweet_id.append(tweet.id)\n",
    "        retweet_count.append(tweet.retweet_count)\n",
    "        entities.append(tweet.entities)\n",
    "\n",
    "\n",
    "    tweets_df = pd.DataFrame({'id': tweet_id, 'tweets': tweets, 'likes': likes, 'created_at': time, 'num_retweets': retweet_count})\n",
    "    entities_df = pd.DataFrame(entities)\n",
    "    \n",
    "    frames = [tweets_df, entities_df]\n",
    "    \n",
    "    final_df = pd.concat(frames, axis=1)\n",
    "    \n",
    "    return final_df"
   ]
  },
  {
   "cell_type": "code",
   "execution_count": 27,
   "metadata": {},
   "outputs": [],
   "source": [
    "tweets_df = tweet_crawler()"
   ]
  },
  {
   "cell_type": "code",
   "execution_count": 28,
   "metadata": {},
   "outputs": [],
   "source": [
    "# tweets.to_csv('tweet_data.csv')"
   ]
  },
  {
   "cell_type": "code",
   "execution_count": 29,
   "metadata": {},
   "outputs": [],
   "source": [
    "# entity.to_csv('entities_urls.csv')"
   ]
  },
  {
   "cell_type": "code",
   "execution_count": 30,
   "metadata": {},
   "outputs": [],
   "source": [
    "tweets_df.to_csv('twitter_complete.csv')"
   ]
  },
  {
   "cell_type": "code",
   "execution_count": null,
   "metadata": {},
   "outputs": [],
   "source": []
  },
  {
   "cell_type": "code",
   "execution_count": null,
   "metadata": {},
   "outputs": [],
   "source": []
  }
 ],
 "metadata": {
  "kernelspec": {
   "display_name": "Python 3",
   "language": "python",
   "name": "python3"
  },
  "language_info": {
   "codemirror_mode": {
    "name": "ipython",
    "version": 3
   },
   "file_extension": ".py",
   "mimetype": "text/x-python",
   "name": "python",
   "nbconvert_exporter": "python",
   "pygments_lexer": "ipython3",
   "version": "3.8.5"
  }
 },
 "nbformat": 4,
 "nbformat_minor": 4
}
